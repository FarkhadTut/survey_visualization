{
 "cells": [
  {
   "cell_type": "code",
   "execution_count": 42,
   "metadata": {},
   "outputs": [],
   "source": [
    "import pandas as pd\n",
    "import os\n",
    "import matplotlib.pyplot as plt\n",
    "import openpyxl"
   ]
  },
  {
   "cell_type": "code",
   "execution_count": 43,
   "metadata": {},
   "outputs": [],
   "source": [
    "df = pd.read_excel('data\\db_2023_07_29.xlsx')\n"
   ]
  },
  {
   "cell_type": "code",
   "execution_count": 44,
   "metadata": {},
   "outputs": [],
   "source": [
    "_df_ = df.copy()\n",
    "COL_REGION = '1. Респондент (корхона) жойлашган ҳудуд:'\n",
    "COL_TARMOQ = '5. ТАРМОҚНИ ТАНЛАНГ:'\n",
    "\n",
    "COLUMNS = ['2-9. Фаолиятингиз давомида ҳамкорлик қиладиган ташкилотларнинг фаолиятини қандай баҳолайсиз?/Солиқ инспекцияси',\n",
    "           '1-22. Солиқ тўлаш жараёни бўйича тажрибангизга таяниб, қуйидаги фикрларга муносабатингизни билдиринг?/Солиқ ходимлари профессионал ва холис']"
   ]
  },
  {
   "cell_type": "code",
   "execution_count": 47,
   "metadata": {},
   "outputs": [],
   "source": [
    "for c in COLUMNS:\n",
    "    ctab_reg = pd.crosstab(index=df[c], columns=[df[COL_REGION]], normalize='index', margins=True)\n",
    "    ctab_reg = ctab_reg.multiply(100).round(1)\n",
    "    ctab_tar = pd.crosstab(index=df[c], columns=[df[COL_TARMOQ]], normalize='index', margins=True)\n",
    "    ctab_tar = ctab_tar.multiply(100).round(1)\n",
    "    ctab = pd.merge(ctab_reg, ctab_tar, how='left', left_index=True, right_index=True)\n"
   ]
  },
  {
   "cell_type": "code",
   "execution_count": 46,
   "metadata": {},
   "outputs": [],
   "source": [
    "ctab.to_excel('ctab.xlsx')"
   ]
  }
 ],
 "metadata": {
  "kernelspec": {
   "display_name": "Python 3",
   "language": "python",
   "name": "python3"
  },
  "language_info": {
   "codemirror_mode": {
    "name": "ipython",
    "version": 3
   },
   "file_extension": ".py",
   "mimetype": "text/x-python",
   "name": "python",
   "nbconvert_exporter": "python",
   "pygments_lexer": "ipython3",
   "version": "3.11.1"
  },
  "orig_nbformat": 4
 },
 "nbformat": 4,
 "nbformat_minor": 2
}
